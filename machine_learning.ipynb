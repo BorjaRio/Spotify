{
 "cells": [
  {
   "cell_type": "markdown",
   "metadata": {},
   "source": [
    "### Importamos las librerias que vamos a utilizar"
   ]
  },
  {
   "cell_type": "code",
   "execution_count": 67,
   "metadata": {},
   "outputs": [],
   "source": [
    "import pandas as pd\n",
    "import numpy as np\n",
    "import seaborn as sns\n",
    "import matplotlib.pyplot as plt\n",
    "from sklearn.linear_model import LinearRegression\n",
    "from sklearn import preprocessing\n",
    "from sklearn.preprocessing import StandardScaler\n",
    "from sklearn.ensemble import RandomForestRegressor\n",
    "from sklearn.datasets import make_regression\n",
    "from sklearn.model_selection import train_test_split\n",
    "from sklearn.metrics import r2_score, mean_squared_error\n",
    "from sklearn.metrics import mean_absolute_error\n",
    "from sklearn.datasets import make_classification\n",
    "from sklearn.tree import export_graphviz\n",
    "from sklearn.metrics import accuracy_score, precision_score, recall_score, f1_score, balanced_accuracy_score"
   ]
  },
  {
   "cell_type": "markdown",
   "metadata": {},
   "source": [
    "### El objetivo de predición será el número de followers mediante  Supervised Learning"
   ]
  },
  {
   "cell_type": "markdown",
   "metadata": {},
   "source": [
    "### Comparativa entre los modelos Linear Regresion - Random Forest - XGBoost"
   ]
  },
  {
   "cell_type": "markdown",
   "metadata": {},
   "source": [
    "### Preparación de los datos"
   ]
  },
  {
   "cell_type": "code",
   "execution_count": 5,
   "metadata": {},
   "outputs": [],
   "source": [
    "# abrimos nuestro dataset con los datos sacados de la API\n",
    "data_followers = pd.read_csv(\"dataset/data_enrinch.csv\")"
   ]
  },
  {
   "cell_type": "code",
   "execution_count": 6,
   "metadata": {},
   "outputs": [
    {
     "data": {
      "text/html": [
       "<div>\n",
       "<style scoped>\n",
       "    .dataframe tbody tr th:only-of-type {\n",
       "        vertical-align: middle;\n",
       "    }\n",
       "\n",
       "    .dataframe tbody tr th {\n",
       "        vertical-align: top;\n",
       "    }\n",
       "\n",
       "    .dataframe thead th {\n",
       "        text-align: right;\n",
       "    }\n",
       "</style>\n",
       "<table border=\"1\" class=\"dataframe\">\n",
       "  <thead>\n",
       "    <tr style=\"text-align: right;\">\n",
       "      <th></th>\n",
       "      <th>valence</th>\n",
       "      <th>year</th>\n",
       "      <th>acousticness</th>\n",
       "      <th>artists</th>\n",
       "      <th>danceability</th>\n",
       "      <th>duration_ms</th>\n",
       "      <th>energy</th>\n",
       "      <th>explicit</th>\n",
       "      <th>id</th>\n",
       "      <th>instrumentalness</th>\n",
       "      <th>...</th>\n",
       "      <th>liveness</th>\n",
       "      <th>loudness</th>\n",
       "      <th>mode</th>\n",
       "      <th>name</th>\n",
       "      <th>popularity</th>\n",
       "      <th>release_date</th>\n",
       "      <th>speechiness</th>\n",
       "      <th>tempo</th>\n",
       "      <th>genre</th>\n",
       "      <th>followers</th>\n",
       "    </tr>\n",
       "  </thead>\n",
       "  <tbody>\n",
       "    <tr>\n",
       "      <th>0</th>\n",
       "      <td>0.0594</td>\n",
       "      <td>1921</td>\n",
       "      <td>0.982</td>\n",
       "      <td>['Sergei Rachmaninoff', 'James Levine', 'Berli...</td>\n",
       "      <td>0.279</td>\n",
       "      <td>831667</td>\n",
       "      <td>0.211</td>\n",
       "      <td>0</td>\n",
       "      <td>4BJqT0PrAfrxzMOxytFOIz</td>\n",
       "      <td>0.878000</td>\n",
       "      <td>...</td>\n",
       "      <td>0.665</td>\n",
       "      <td>-20.096</td>\n",
       "      <td>1</td>\n",
       "      <td>Piano Concerto No. 3 in D Minor, Op. 30: III. ...</td>\n",
       "      <td>4</td>\n",
       "      <td>1921</td>\n",
       "      <td>0.0366</td>\n",
       "      <td>80.954</td>\n",
       "      <td>['classical', 'post-romantic era', 'russian ro...</td>\n",
       "      <td>419638.0</td>\n",
       "    </tr>\n",
       "    <tr>\n",
       "      <th>1</th>\n",
       "      <td>0.9630</td>\n",
       "      <td>1921</td>\n",
       "      <td>0.732</td>\n",
       "      <td>['Dennis Day']</td>\n",
       "      <td>0.819</td>\n",
       "      <td>180533</td>\n",
       "      <td>0.341</td>\n",
       "      <td>0</td>\n",
       "      <td>7xPhfUan2yNtyFG0cUWkt8</td>\n",
       "      <td>0.000000</td>\n",
       "      <td>...</td>\n",
       "      <td>0.160</td>\n",
       "      <td>-12.441</td>\n",
       "      <td>1</td>\n",
       "      <td>Clancy Lowered the Boom</td>\n",
       "      <td>5</td>\n",
       "      <td>1921</td>\n",
       "      <td>0.4150</td>\n",
       "      <td>60.936</td>\n",
       "      <td>[]</td>\n",
       "      <td>395.0</td>\n",
       "    </tr>\n",
       "    <tr>\n",
       "      <th>2</th>\n",
       "      <td>0.0394</td>\n",
       "      <td>1921</td>\n",
       "      <td>0.961</td>\n",
       "      <td>['KHP Kridhamardawa Karaton Ngayogyakarta Hadi...</td>\n",
       "      <td>0.328</td>\n",
       "      <td>500062</td>\n",
       "      <td>0.166</td>\n",
       "      <td>0</td>\n",
       "      <td>1o6I8BglA6ylDMrIELygv1</td>\n",
       "      <td>0.913000</td>\n",
       "      <td>...</td>\n",
       "      <td>0.101</td>\n",
       "      <td>-14.850</td>\n",
       "      <td>1</td>\n",
       "      <td>Gati Bali</td>\n",
       "      <td>5</td>\n",
       "      <td>1921</td>\n",
       "      <td>0.0339</td>\n",
       "      <td>110.339</td>\n",
       "      <td>[]</td>\n",
       "      <td>164.0</td>\n",
       "    </tr>\n",
       "    <tr>\n",
       "      <th>3</th>\n",
       "      <td>0.1650</td>\n",
       "      <td>1921</td>\n",
       "      <td>0.967</td>\n",
       "      <td>['Frank Parker']</td>\n",
       "      <td>0.275</td>\n",
       "      <td>210000</td>\n",
       "      <td>0.309</td>\n",
       "      <td>0</td>\n",
       "      <td>3ftBPsC5vPBKxYSee08FDH</td>\n",
       "      <td>0.000028</td>\n",
       "      <td>...</td>\n",
       "      <td>0.381</td>\n",
       "      <td>-9.316</td>\n",
       "      <td>1</td>\n",
       "      <td>Danny Boy</td>\n",
       "      <td>3</td>\n",
       "      <td>1921</td>\n",
       "      <td>0.0354</td>\n",
       "      <td>100.109</td>\n",
       "      <td>[]</td>\n",
       "      <td>30.0</td>\n",
       "    </tr>\n",
       "    <tr>\n",
       "      <th>4</th>\n",
       "      <td>0.2530</td>\n",
       "      <td>1921</td>\n",
       "      <td>0.957</td>\n",
       "      <td>['Phil Regan']</td>\n",
       "      <td>0.418</td>\n",
       "      <td>166693</td>\n",
       "      <td>0.193</td>\n",
       "      <td>0</td>\n",
       "      <td>4d6HGyGT8e121BsdKmw9v6</td>\n",
       "      <td>0.000002</td>\n",
       "      <td>...</td>\n",
       "      <td>0.229</td>\n",
       "      <td>-10.096</td>\n",
       "      <td>1</td>\n",
       "      <td>When Irish Eyes Are Smiling</td>\n",
       "      <td>2</td>\n",
       "      <td>1921</td>\n",
       "      <td>0.0380</td>\n",
       "      <td>101.665</td>\n",
       "      <td>[]</td>\n",
       "      <td>18.0</td>\n",
       "    </tr>\n",
       "  </tbody>\n",
       "</table>\n",
       "<p>5 rows × 21 columns</p>\n",
       "</div>"
      ],
      "text/plain": [
       "   valence  year  acousticness  \\\n",
       "0   0.0594  1921         0.982   \n",
       "1   0.9630  1921         0.732   \n",
       "2   0.0394  1921         0.961   \n",
       "3   0.1650  1921         0.967   \n",
       "4   0.2530  1921         0.957   \n",
       "\n",
       "                                             artists  danceability  \\\n",
       "0  ['Sergei Rachmaninoff', 'James Levine', 'Berli...         0.279   \n",
       "1                                     ['Dennis Day']         0.819   \n",
       "2  ['KHP Kridhamardawa Karaton Ngayogyakarta Hadi...         0.328   \n",
       "3                                   ['Frank Parker']         0.275   \n",
       "4                                     ['Phil Regan']         0.418   \n",
       "\n",
       "   duration_ms  energy  explicit                      id  instrumentalness  \\\n",
       "0       831667   0.211         0  4BJqT0PrAfrxzMOxytFOIz          0.878000   \n",
       "1       180533   0.341         0  7xPhfUan2yNtyFG0cUWkt8          0.000000   \n",
       "2       500062   0.166         0  1o6I8BglA6ylDMrIELygv1          0.913000   \n",
       "3       210000   0.309         0  3ftBPsC5vPBKxYSee08FDH          0.000028   \n",
       "4       166693   0.193         0  4d6HGyGT8e121BsdKmw9v6          0.000002   \n",
       "\n",
       "   ...  liveness  loudness  mode  \\\n",
       "0  ...     0.665   -20.096     1   \n",
       "1  ...     0.160   -12.441     1   \n",
       "2  ...     0.101   -14.850     1   \n",
       "3  ...     0.381    -9.316     1   \n",
       "4  ...     0.229   -10.096     1   \n",
       "\n",
       "                                                name popularity  release_date  \\\n",
       "0  Piano Concerto No. 3 in D Minor, Op. 30: III. ...          4          1921   \n",
       "1                            Clancy Lowered the Boom          5          1921   \n",
       "2                                          Gati Bali          5          1921   \n",
       "3                                          Danny Boy          3          1921   \n",
       "4                        When Irish Eyes Are Smiling          2          1921   \n",
       "\n",
       "  speechiness    tempo                                              genre  \\\n",
       "0      0.0366   80.954  ['classical', 'post-romantic era', 'russian ro...   \n",
       "1      0.4150   60.936                                                 []   \n",
       "2      0.0339  110.339                                                 []   \n",
       "3      0.0354  100.109                                                 []   \n",
       "4      0.0380  101.665                                                 []   \n",
       "\n",
       "  followers  \n",
       "0  419638.0  \n",
       "1     395.0  \n",
       "2     164.0  \n",
       "3      30.0  \n",
       "4      18.0  \n",
       "\n",
       "[5 rows x 21 columns]"
      ]
     },
     "execution_count": 6,
     "metadata": {},
     "output_type": "execute_result"
    }
   ],
   "source": [
    "data_followers.head()"
   ]
  },
  {
   "cell_type": "code",
   "execution_count": 7,
   "metadata": {},
   "outputs": [
    {
     "data": {
      "text/html": [
       "<div>\n",
       "<style scoped>\n",
       "    .dataframe tbody tr th:only-of-type {\n",
       "        vertical-align: middle;\n",
       "    }\n",
       "\n",
       "    .dataframe tbody tr th {\n",
       "        vertical-align: top;\n",
       "    }\n",
       "\n",
       "    .dataframe thead th {\n",
       "        text-align: right;\n",
       "    }\n",
       "</style>\n",
       "<table border=\"1\" class=\"dataframe\">\n",
       "  <thead>\n",
       "    <tr style=\"text-align: right;\">\n",
       "      <th></th>\n",
       "      <th>valence</th>\n",
       "      <th>year</th>\n",
       "      <th>acousticness</th>\n",
       "      <th>danceability</th>\n",
       "      <th>duration_ms</th>\n",
       "      <th>energy</th>\n",
       "      <th>instrumentalness</th>\n",
       "      <th>liveness</th>\n",
       "      <th>loudness</th>\n",
       "      <th>popularity</th>\n",
       "      <th>speechiness</th>\n",
       "      <th>tempo</th>\n",
       "      <th>followers</th>\n",
       "    </tr>\n",
       "  </thead>\n",
       "  <tbody>\n",
       "    <tr>\n",
       "      <th>0</th>\n",
       "      <td>0.0594</td>\n",
       "      <td>1921</td>\n",
       "      <td>0.98200</td>\n",
       "      <td>0.279</td>\n",
       "      <td>831667</td>\n",
       "      <td>0.211</td>\n",
       "      <td>0.878000</td>\n",
       "      <td>0.6650</td>\n",
       "      <td>-20.096</td>\n",
       "      <td>4</td>\n",
       "      <td>0.0366</td>\n",
       "      <td>80.954</td>\n",
       "      <td>419638.0</td>\n",
       "    </tr>\n",
       "    <tr>\n",
       "      <th>1</th>\n",
       "      <td>0.9630</td>\n",
       "      <td>1921</td>\n",
       "      <td>0.73200</td>\n",
       "      <td>0.819</td>\n",
       "      <td>180533</td>\n",
       "      <td>0.341</td>\n",
       "      <td>0.000000</td>\n",
       "      <td>0.1600</td>\n",
       "      <td>-12.441</td>\n",
       "      <td>5</td>\n",
       "      <td>0.4150</td>\n",
       "      <td>60.936</td>\n",
       "      <td>395.0</td>\n",
       "    </tr>\n",
       "    <tr>\n",
       "      <th>2</th>\n",
       "      <td>0.0394</td>\n",
       "      <td>1921</td>\n",
       "      <td>0.96100</td>\n",
       "      <td>0.328</td>\n",
       "      <td>500062</td>\n",
       "      <td>0.166</td>\n",
       "      <td>0.913000</td>\n",
       "      <td>0.1010</td>\n",
       "      <td>-14.850</td>\n",
       "      <td>5</td>\n",
       "      <td>0.0339</td>\n",
       "      <td>110.339</td>\n",
       "      <td>164.0</td>\n",
       "    </tr>\n",
       "    <tr>\n",
       "      <th>3</th>\n",
       "      <td>0.1650</td>\n",
       "      <td>1921</td>\n",
       "      <td>0.96700</td>\n",
       "      <td>0.275</td>\n",
       "      <td>210000</td>\n",
       "      <td>0.309</td>\n",
       "      <td>0.000028</td>\n",
       "      <td>0.3810</td>\n",
       "      <td>-9.316</td>\n",
       "      <td>3</td>\n",
       "      <td>0.0354</td>\n",
       "      <td>100.109</td>\n",
       "      <td>30.0</td>\n",
       "    </tr>\n",
       "    <tr>\n",
       "      <th>4</th>\n",
       "      <td>0.2530</td>\n",
       "      <td>1921</td>\n",
       "      <td>0.95700</td>\n",
       "      <td>0.418</td>\n",
       "      <td>166693</td>\n",
       "      <td>0.193</td>\n",
       "      <td>0.000002</td>\n",
       "      <td>0.2290</td>\n",
       "      <td>-10.096</td>\n",
       "      <td>2</td>\n",
       "      <td>0.0380</td>\n",
       "      <td>101.665</td>\n",
       "      <td>18.0</td>\n",
       "    </tr>\n",
       "    <tr>\n",
       "      <th>...</th>\n",
       "      <td>...</td>\n",
       "      <td>...</td>\n",
       "      <td>...</td>\n",
       "      <td>...</td>\n",
       "      <td>...</td>\n",
       "      <td>...</td>\n",
       "      <td>...</td>\n",
       "      <td>...</td>\n",
       "      <td>...</td>\n",
       "      <td>...</td>\n",
       "      <td>...</td>\n",
       "      <td>...</td>\n",
       "      <td>...</td>\n",
       "    </tr>\n",
       "    <tr>\n",
       "      <th>170648</th>\n",
       "      <td>0.6080</td>\n",
       "      <td>2020</td>\n",
       "      <td>0.08460</td>\n",
       "      <td>0.786</td>\n",
       "      <td>301714</td>\n",
       "      <td>0.808</td>\n",
       "      <td>0.000289</td>\n",
       "      <td>0.0822</td>\n",
       "      <td>-3.702</td>\n",
       "      <td>72</td>\n",
       "      <td>0.0881</td>\n",
       "      <td>105.029</td>\n",
       "      <td>15331848.0</td>\n",
       "    </tr>\n",
       "    <tr>\n",
       "      <th>170649</th>\n",
       "      <td>0.7340</td>\n",
       "      <td>2020</td>\n",
       "      <td>0.20600</td>\n",
       "      <td>0.717</td>\n",
       "      <td>150654</td>\n",
       "      <td>0.753</td>\n",
       "      <td>0.000000</td>\n",
       "      <td>0.1010</td>\n",
       "      <td>-6.020</td>\n",
       "      <td>68</td>\n",
       "      <td>0.0605</td>\n",
       "      <td>137.936</td>\n",
       "      <td>545501.0</td>\n",
       "    </tr>\n",
       "    <tr>\n",
       "      <th>170650</th>\n",
       "      <td>0.6370</td>\n",
       "      <td>2020</td>\n",
       "      <td>0.10100</td>\n",
       "      <td>0.634</td>\n",
       "      <td>211280</td>\n",
       "      <td>0.858</td>\n",
       "      <td>0.000009</td>\n",
       "      <td>0.2580</td>\n",
       "      <td>-2.226</td>\n",
       "      <td>76</td>\n",
       "      <td>0.0809</td>\n",
       "      <td>91.688</td>\n",
       "      <td>2764634.0</td>\n",
       "    </tr>\n",
       "    <tr>\n",
       "      <th>170651</th>\n",
       "      <td>0.1950</td>\n",
       "      <td>2020</td>\n",
       "      <td>0.00998</td>\n",
       "      <td>0.671</td>\n",
       "      <td>337147</td>\n",
       "      <td>0.623</td>\n",
       "      <td>0.000008</td>\n",
       "      <td>0.6430</td>\n",
       "      <td>-7.161</td>\n",
       "      <td>70</td>\n",
       "      <td>0.3080</td>\n",
       "      <td>75.055</td>\n",
       "      <td>39829471.0</td>\n",
       "    </tr>\n",
       "    <tr>\n",
       "      <th>170652</th>\n",
       "      <td>0.6420</td>\n",
       "      <td>2020</td>\n",
       "      <td>0.13200</td>\n",
       "      <td>0.856</td>\n",
       "      <td>189507</td>\n",
       "      <td>0.721</td>\n",
       "      <td>0.004710</td>\n",
       "      <td>0.1820</td>\n",
       "      <td>-4.928</td>\n",
       "      <td>74</td>\n",
       "      <td>0.1080</td>\n",
       "      <td>94.991</td>\n",
       "      <td>143621.0</td>\n",
       "    </tr>\n",
       "  </tbody>\n",
       "</table>\n",
       "<p>170653 rows × 13 columns</p>\n",
       "</div>"
      ],
      "text/plain": [
       "        valence  year  acousticness  danceability  duration_ms  energy  \\\n",
       "0        0.0594  1921       0.98200         0.279       831667   0.211   \n",
       "1        0.9630  1921       0.73200         0.819       180533   0.341   \n",
       "2        0.0394  1921       0.96100         0.328       500062   0.166   \n",
       "3        0.1650  1921       0.96700         0.275       210000   0.309   \n",
       "4        0.2530  1921       0.95700         0.418       166693   0.193   \n",
       "...         ...   ...           ...           ...          ...     ...   \n",
       "170648   0.6080  2020       0.08460         0.786       301714   0.808   \n",
       "170649   0.7340  2020       0.20600         0.717       150654   0.753   \n",
       "170650   0.6370  2020       0.10100         0.634       211280   0.858   \n",
       "170651   0.1950  2020       0.00998         0.671       337147   0.623   \n",
       "170652   0.6420  2020       0.13200         0.856       189507   0.721   \n",
       "\n",
       "        instrumentalness  liveness  loudness  popularity  speechiness  \\\n",
       "0               0.878000    0.6650   -20.096           4       0.0366   \n",
       "1               0.000000    0.1600   -12.441           5       0.4150   \n",
       "2               0.913000    0.1010   -14.850           5       0.0339   \n",
       "3               0.000028    0.3810    -9.316           3       0.0354   \n",
       "4               0.000002    0.2290   -10.096           2       0.0380   \n",
       "...                  ...       ...       ...         ...          ...   \n",
       "170648          0.000289    0.0822    -3.702          72       0.0881   \n",
       "170649          0.000000    0.1010    -6.020          68       0.0605   \n",
       "170650          0.000009    0.2580    -2.226          76       0.0809   \n",
       "170651          0.000008    0.6430    -7.161          70       0.3080   \n",
       "170652          0.004710    0.1820    -4.928          74       0.1080   \n",
       "\n",
       "          tempo   followers  \n",
       "0        80.954    419638.0  \n",
       "1        60.936       395.0  \n",
       "2       110.339       164.0  \n",
       "3       100.109        30.0  \n",
       "4       101.665        18.0  \n",
       "...         ...         ...  \n",
       "170648  105.029  15331848.0  \n",
       "170649  137.936    545501.0  \n",
       "170650   91.688   2764634.0  \n",
       "170651   75.055  39829471.0  \n",
       "170652   94.991    143621.0  \n",
       "\n",
       "[170653 rows x 13 columns]"
      ]
     },
     "execution_count": 7,
     "metadata": {},
     "output_type": "execute_result"
    }
   ],
   "source": [
    "# dropeamos las columnas que no vamos a usar\n",
    "data_followers_clean = data_followers.drop(columns=[\"id\",\"genre\", \"name\", \"artists\",\"release_date\",\"key\", \"explicit\", \"mode\"])\n",
    "data_followers_clean"
   ]
  },
  {
   "cell_type": "code",
   "execution_count": 8,
   "metadata": {},
   "outputs": [
    {
     "data": {
      "text/plain": [
       "valence             0\n",
       "year                0\n",
       "acousticness        0\n",
       "danceability        0\n",
       "duration_ms         0\n",
       "energy              0\n",
       "instrumentalness    0\n",
       "liveness            0\n",
       "loudness            0\n",
       "popularity          0\n",
       "speechiness         0\n",
       "tempo               0\n",
       "followers           1\n",
       "dtype: int64"
      ]
     },
     "execution_count": 8,
     "metadata": {},
     "output_type": "execute_result"
    }
   ],
   "source": [
    "# vemos que hay un valor nulo en followers\n",
    "data_followers_clean.isnull().sum()"
   ]
  },
  {
   "cell_type": "code",
   "execution_count": 9,
   "metadata": {},
   "outputs": [
    {
     "data": {
      "text/plain": [
       "valence             0\n",
       "year                0\n",
       "acousticness        0\n",
       "danceability        0\n",
       "duration_ms         0\n",
       "energy              0\n",
       "instrumentalness    0\n",
       "liveness            0\n",
       "loudness            0\n",
       "popularity          0\n",
       "speechiness         0\n",
       "tempo               0\n",
       "followers           0\n",
       "dtype: int64"
      ]
     },
     "execution_count": 9,
     "metadata": {},
     "output_type": "execute_result"
    }
   ],
   "source": [
    "data_followers_clean_n=data_followers_clean.fillna(value=0, axis=1)\n",
    "data_followers_clean_n.isnull().sum()"
   ]
  },
  {
   "cell_type": "code",
   "execution_count": 10,
   "metadata": {},
   "outputs": [
    {
     "data": {
      "text/plain": [
       "valence             0\n",
       "year                0\n",
       "acousticness        0\n",
       "danceability        0\n",
       "duration_ms         0\n",
       "energy              0\n",
       "instrumentalness    0\n",
       "liveness            0\n",
       "loudness            0\n",
       "popularity          0\n",
       "speechiness         0\n",
       "tempo               0\n",
       "followers           0\n",
       "dtype: int64"
      ]
     },
     "execution_count": 10,
     "metadata": {},
     "output_type": "execute_result"
    }
   ],
   "source": [
    "data_followers_clean_n.isna().sum()"
   ]
  },
  {
   "cell_type": "code",
   "execution_count": 11,
   "metadata": {},
   "outputs": [
    {
     "data": {
      "text/html": [
       "<div>\n",
       "<style scoped>\n",
       "    .dataframe tbody tr th:only-of-type {\n",
       "        vertical-align: middle;\n",
       "    }\n",
       "\n",
       "    .dataframe tbody tr th {\n",
       "        vertical-align: top;\n",
       "    }\n",
       "\n",
       "    .dataframe thead th {\n",
       "        text-align: right;\n",
       "    }\n",
       "</style>\n",
       "<table border=\"1\" class=\"dataframe\">\n",
       "  <thead>\n",
       "    <tr style=\"text-align: right;\">\n",
       "      <th></th>\n",
       "      <th>valence</th>\n",
       "      <th>year</th>\n",
       "      <th>acousticness</th>\n",
       "      <th>danceability</th>\n",
       "      <th>duration_ms</th>\n",
       "      <th>energy</th>\n",
       "      <th>instrumentalness</th>\n",
       "      <th>liveness</th>\n",
       "      <th>loudness</th>\n",
       "      <th>popularity</th>\n",
       "      <th>speechiness</th>\n",
       "      <th>tempo</th>\n",
       "      <th>followers</th>\n",
       "    </tr>\n",
       "  </thead>\n",
       "  <tbody>\n",
       "    <tr>\n",
       "      <th>valence</th>\n",
       "      <td>1.000000</td>\n",
       "      <td>-0.028245</td>\n",
       "      <td>-0.184101</td>\n",
       "      <td>0.558946</td>\n",
       "      <td>-0.191813</td>\n",
       "      <td>0.353876</td>\n",
       "      <td>-0.198501</td>\n",
       "      <td>0.003832</td>\n",
       "      <td>0.313512</td>\n",
       "      <td>0.014200</td>\n",
       "      <td>0.046381</td>\n",
       "      <td>0.171689</td>\n",
       "      <td>-0.044267</td>\n",
       "    </tr>\n",
       "    <tr>\n",
       "      <th>year</th>\n",
       "      <td>-0.028245</td>\n",
       "      <td>1.000000</td>\n",
       "      <td>-0.614250</td>\n",
       "      <td>0.188515</td>\n",
       "      <td>0.079713</td>\n",
       "      <td>0.530272</td>\n",
       "      <td>-0.272371</td>\n",
       "      <td>-0.057318</td>\n",
       "      <td>0.487697</td>\n",
       "      <td>0.862442</td>\n",
       "      <td>-0.167816</td>\n",
       "      <td>0.141048</td>\n",
       "      <td>0.266824</td>\n",
       "    </tr>\n",
       "    <tr>\n",
       "      <th>acousticness</th>\n",
       "      <td>-0.184101</td>\n",
       "      <td>-0.614250</td>\n",
       "      <td>1.000000</td>\n",
       "      <td>-0.266852</td>\n",
       "      <td>-0.076373</td>\n",
       "      <td>-0.749393</td>\n",
       "      <td>0.329819</td>\n",
       "      <td>-0.024482</td>\n",
       "      <td>-0.561696</td>\n",
       "      <td>-0.573162</td>\n",
       "      <td>-0.043980</td>\n",
       "      <td>-0.207120</td>\n",
       "      <td>-0.204939</td>\n",
       "    </tr>\n",
       "    <tr>\n",
       "      <th>danceability</th>\n",
       "      <td>0.558946</td>\n",
       "      <td>0.188515</td>\n",
       "      <td>-0.266852</td>\n",
       "      <td>1.000000</td>\n",
       "      <td>-0.139937</td>\n",
       "      <td>0.221967</td>\n",
       "      <td>-0.278063</td>\n",
       "      <td>-0.100193</td>\n",
       "      <td>0.285057</td>\n",
       "      <td>0.199606</td>\n",
       "      <td>0.235491</td>\n",
       "      <td>0.001801</td>\n",
       "      <td>0.060507</td>\n",
       "    </tr>\n",
       "    <tr>\n",
       "      <th>duration_ms</th>\n",
       "      <td>-0.191813</td>\n",
       "      <td>0.079713</td>\n",
       "      <td>-0.076373</td>\n",
       "      <td>-0.139937</td>\n",
       "      <td>1.000000</td>\n",
       "      <td>0.042119</td>\n",
       "      <td>0.084770</td>\n",
       "      <td>0.047168</td>\n",
       "      <td>-0.003037</td>\n",
       "      <td>0.059597</td>\n",
       "      <td>-0.084604</td>\n",
       "      <td>-0.025472</td>\n",
       "      <td>0.025336</td>\n",
       "    </tr>\n",
       "    <tr>\n",
       "      <th>energy</th>\n",
       "      <td>0.353876</td>\n",
       "      <td>0.530272</td>\n",
       "      <td>-0.749393</td>\n",
       "      <td>0.221967</td>\n",
       "      <td>0.042119</td>\n",
       "      <td>1.000000</td>\n",
       "      <td>-0.281101</td>\n",
       "      <td>0.126192</td>\n",
       "      <td>0.782362</td>\n",
       "      <td>0.485005</td>\n",
       "      <td>-0.070555</td>\n",
       "      <td>0.250865</td>\n",
       "      <td>0.177611</td>\n",
       "    </tr>\n",
       "    <tr>\n",
       "      <th>instrumentalness</th>\n",
       "      <td>-0.198501</td>\n",
       "      <td>-0.272371</td>\n",
       "      <td>0.329819</td>\n",
       "      <td>-0.278063</td>\n",
       "      <td>0.084770</td>\n",
       "      <td>-0.281101</td>\n",
       "      <td>1.000000</td>\n",
       "      <td>-0.047193</td>\n",
       "      <td>-0.408611</td>\n",
       "      <td>-0.296750</td>\n",
       "      <td>-0.121700</td>\n",
       "      <td>-0.105361</td>\n",
       "      <td>-0.106014</td>\n",
       "    </tr>\n",
       "    <tr>\n",
       "      <th>liveness</th>\n",
       "      <td>0.003832</td>\n",
       "      <td>-0.057318</td>\n",
       "      <td>-0.024482</td>\n",
       "      <td>-0.100193</td>\n",
       "      <td>0.047168</td>\n",
       "      <td>0.126192</td>\n",
       "      <td>-0.047193</td>\n",
       "      <td>1.000000</td>\n",
       "      <td>0.056422</td>\n",
       "      <td>-0.076464</td>\n",
       "      <td>0.134667</td>\n",
       "      <td>0.007714</td>\n",
       "      <td>0.011164</td>\n",
       "    </tr>\n",
       "    <tr>\n",
       "      <th>loudness</th>\n",
       "      <td>0.313512</td>\n",
       "      <td>0.487697</td>\n",
       "      <td>-0.561696</td>\n",
       "      <td>0.285057</td>\n",
       "      <td>-0.003037</td>\n",
       "      <td>0.782362</td>\n",
       "      <td>-0.408611</td>\n",
       "      <td>0.056422</td>\n",
       "      <td>1.000000</td>\n",
       "      <td>0.457051</td>\n",
       "      <td>-0.139296</td>\n",
       "      <td>0.209774</td>\n",
       "      <td>0.195048</td>\n",
       "    </tr>\n",
       "    <tr>\n",
       "      <th>popularity</th>\n",
       "      <td>0.014200</td>\n",
       "      <td>0.862442</td>\n",
       "      <td>-0.573162</td>\n",
       "      <td>0.199606</td>\n",
       "      <td>0.059597</td>\n",
       "      <td>0.485005</td>\n",
       "      <td>-0.296750</td>\n",
       "      <td>-0.076464</td>\n",
       "      <td>0.457051</td>\n",
       "      <td>1.000000</td>\n",
       "      <td>-0.171979</td>\n",
       "      <td>0.133310</td>\n",
       "      <td>0.293067</td>\n",
       "    </tr>\n",
       "    <tr>\n",
       "      <th>speechiness</th>\n",
       "      <td>0.046381</td>\n",
       "      <td>-0.167816</td>\n",
       "      <td>-0.043980</td>\n",
       "      <td>0.235491</td>\n",
       "      <td>-0.084604</td>\n",
       "      <td>-0.070555</td>\n",
       "      <td>-0.121700</td>\n",
       "      <td>0.134667</td>\n",
       "      <td>-0.139296</td>\n",
       "      <td>-0.171979</td>\n",
       "      <td>1.000000</td>\n",
       "      <td>-0.011523</td>\n",
       "      <td>-0.011978</td>\n",
       "    </tr>\n",
       "    <tr>\n",
       "      <th>tempo</th>\n",
       "      <td>0.171689</td>\n",
       "      <td>0.141048</td>\n",
       "      <td>-0.207120</td>\n",
       "      <td>0.001801</td>\n",
       "      <td>-0.025472</td>\n",
       "      <td>0.250865</td>\n",
       "      <td>-0.105361</td>\n",
       "      <td>0.007714</td>\n",
       "      <td>0.209774</td>\n",
       "      <td>0.133310</td>\n",
       "      <td>-0.011523</td>\n",
       "      <td>1.000000</td>\n",
       "      <td>0.039646</td>\n",
       "    </tr>\n",
       "    <tr>\n",
       "      <th>followers</th>\n",
       "      <td>-0.044267</td>\n",
       "      <td>0.266824</td>\n",
       "      <td>-0.204939</td>\n",
       "      <td>0.060507</td>\n",
       "      <td>0.025336</td>\n",
       "      <td>0.177611</td>\n",
       "      <td>-0.106014</td>\n",
       "      <td>0.011164</td>\n",
       "      <td>0.195048</td>\n",
       "      <td>0.293067</td>\n",
       "      <td>-0.011978</td>\n",
       "      <td>0.039646</td>\n",
       "      <td>1.000000</td>\n",
       "    </tr>\n",
       "  </tbody>\n",
       "</table>\n",
       "</div>"
      ],
      "text/plain": [
       "                   valence      year  acousticness  danceability  duration_ms  \\\n",
       "valence           1.000000 -0.028245     -0.184101      0.558946    -0.191813   \n",
       "year             -0.028245  1.000000     -0.614250      0.188515     0.079713   \n",
       "acousticness     -0.184101 -0.614250      1.000000     -0.266852    -0.076373   \n",
       "danceability      0.558946  0.188515     -0.266852      1.000000    -0.139937   \n",
       "duration_ms      -0.191813  0.079713     -0.076373     -0.139937     1.000000   \n",
       "energy            0.353876  0.530272     -0.749393      0.221967     0.042119   \n",
       "instrumentalness -0.198501 -0.272371      0.329819     -0.278063     0.084770   \n",
       "liveness          0.003832 -0.057318     -0.024482     -0.100193     0.047168   \n",
       "loudness          0.313512  0.487697     -0.561696      0.285057    -0.003037   \n",
       "popularity        0.014200  0.862442     -0.573162      0.199606     0.059597   \n",
       "speechiness       0.046381 -0.167816     -0.043980      0.235491    -0.084604   \n",
       "tempo             0.171689  0.141048     -0.207120      0.001801    -0.025472   \n",
       "followers        -0.044267  0.266824     -0.204939      0.060507     0.025336   \n",
       "\n",
       "                    energy  instrumentalness  liveness  loudness  popularity  \\\n",
       "valence           0.353876         -0.198501  0.003832  0.313512    0.014200   \n",
       "year              0.530272         -0.272371 -0.057318  0.487697    0.862442   \n",
       "acousticness     -0.749393          0.329819 -0.024482 -0.561696   -0.573162   \n",
       "danceability      0.221967         -0.278063 -0.100193  0.285057    0.199606   \n",
       "duration_ms       0.042119          0.084770  0.047168 -0.003037    0.059597   \n",
       "energy            1.000000         -0.281101  0.126192  0.782362    0.485005   \n",
       "instrumentalness -0.281101          1.000000 -0.047193 -0.408611   -0.296750   \n",
       "liveness          0.126192         -0.047193  1.000000  0.056422   -0.076464   \n",
       "loudness          0.782362         -0.408611  0.056422  1.000000    0.457051   \n",
       "popularity        0.485005         -0.296750 -0.076464  0.457051    1.000000   \n",
       "speechiness      -0.070555         -0.121700  0.134667 -0.139296   -0.171979   \n",
       "tempo             0.250865         -0.105361  0.007714  0.209774    0.133310   \n",
       "followers         0.177611         -0.106014  0.011164  0.195048    0.293067   \n",
       "\n",
       "                  speechiness     tempo  followers  \n",
       "valence              0.046381  0.171689  -0.044267  \n",
       "year                -0.167816  0.141048   0.266824  \n",
       "acousticness        -0.043980 -0.207120  -0.204939  \n",
       "danceability         0.235491  0.001801   0.060507  \n",
       "duration_ms         -0.084604 -0.025472   0.025336  \n",
       "energy              -0.070555  0.250865   0.177611  \n",
       "instrumentalness    -0.121700 -0.105361  -0.106014  \n",
       "liveness             0.134667  0.007714   0.011164  \n",
       "loudness            -0.139296  0.209774   0.195048  \n",
       "popularity          -0.171979  0.133310   0.293067  \n",
       "speechiness          1.000000 -0.011523  -0.011978  \n",
       "tempo               -0.011523  1.000000   0.039646  \n",
       "followers           -0.011978  0.039646   1.000000  "
      ]
     },
     "execution_count": 11,
     "metadata": {},
     "output_type": "execute_result"
    }
   ],
   "source": [
    "corr = data_followers_clean.corr()\n",
    "corr"
   ]
  },
  {
   "cell_type": "code",
   "execution_count": 12,
   "metadata": {},
   "outputs": [
    {
     "data": {
      "text/plain": [
       "acousticness       -0.204939\n",
       "instrumentalness   -0.106014\n",
       "valence            -0.044267\n",
       "speechiness        -0.011978\n",
       "liveness            0.011164\n",
       "duration_ms         0.025336\n",
       "tempo               0.039646\n",
       "danceability        0.060507\n",
       "energy              0.177611\n",
       "loudness            0.195048\n",
       "year                0.266824\n",
       "popularity          0.293067\n",
       "followers           1.000000\n",
       "Name: followers, dtype: float64"
      ]
     },
     "execution_count": 12,
     "metadata": {},
     "output_type": "execute_result"
    }
   ],
   "source": [
    "# miramos las correlaciones con repecto al numero de followers que va a ser la variable a predecir\n",
    "corr[\"followers\"].sort_values()"
   ]
  },
  {
   "cell_type": "code",
   "execution_count": 13,
   "metadata": {},
   "outputs": [
    {
     "data": {
      "text/plain": [
       "<matplotlib.axes._subplots.AxesSubplot at 0x7fac78505f10>"
      ]
     },
     "execution_count": 13,
     "metadata": {},
     "output_type": "execute_result"
    },
    {
     "data": {
      "image/png": "[encoded data removed]",
      "text/plain": [
       "<Figure size 432x288 with 2 Axes>"
      ]
     },
     "metadata": {
      "needs_background": "light"
     },
     "output_type": "display_data"
    }
   ],
   "source": [
    "sns.heatmap(corr, annot=True,\n",
    "        xticklabels=corr.columns,\n",
    "        yticklabels=corr.columns)"
   ]
  },
  {
   "cell_type": "markdown",
   "metadata": {},
   "source": [
    "### Linear Regression"
   ]
  },
  {
   "cell_type": "markdown",
   "metadata": {},
   "source": [
    "### Estandarización de los datos"
   ]
  },
  {
   "cell_type": "code",
   "execution_count": 14,
   "metadata": {},
   "outputs": [],
   "source": [
    "scaler = StandardScaler()"
   ]
  },
  {
   "cell_type": "code",
   "execution_count": 70,
   "metadata": {},
   "outputs": [],
   "source": [
    "X = data_followers_clean_n.drop(columns=['followers'])\n",
    "y = data_followers_clean_n['followers']\n",
    "X_train, X_test, y_train, y_test = train_test_split(X, y, test_size=.25)\n",
    "transformer = StandardScaler().fit(X_train)\n",
    "X_scaled_test = transformer.transform(X_test)\n",
    "X_scaled_train = transformer.transform(X_train)"
   ]
  },
  {
   "cell_type": "code",
   "execution_count": 71,
   "metadata": {},
   "outputs": [
    {
     "data": {
      "text/html": [
       "<div>\n",
       "<style scoped>\n",
       "    .dataframe tbody tr th:only-of-type {\n",
       "        vertical-align: middle;\n",
       "    }\n",
       "\n",
       "    .dataframe tbody tr th {\n",
       "        vertical-align: top;\n",
       "    }\n",
       "\n",
       "    .dataframe thead th {\n",
       "        text-align: right;\n",
       "    }\n",
       "</style>\n",
       "<table border=\"1\" class=\"dataframe\">\n",
       "  <thead>\n",
       "    <tr style=\"text-align: right;\">\n",
       "      <th></th>\n",
       "      <th>valence</th>\n",
       "      <th>year</th>\n",
       "      <th>acousticness</th>\n",
       "      <th>danceability</th>\n",
       "      <th>duration_ms</th>\n",
       "      <th>energy</th>\n",
       "      <th>instrumentalness</th>\n",
       "      <th>liveness</th>\n",
       "      <th>loudness</th>\n",
       "      <th>popularity</th>\n",
       "      <th>speechiness</th>\n",
       "      <th>tempo</th>\n",
       "    </tr>\n",
       "  </thead>\n",
       "  <tbody>\n",
       "    <tr>\n",
       "      <th>160109</th>\n",
       "      <td>0.871</td>\n",
       "      <td>1967</td>\n",
       "      <td>0.0946</td>\n",
       "      <td>0.568</td>\n",
       "      <td>162707</td>\n",
       "      <td>0.618</td>\n",
       "      <td>0.000000</td>\n",
       "      <td>0.6020</td>\n",
       "      <td>-9.209</td>\n",
       "      <td>19</td>\n",
       "      <td>0.0375</td>\n",
       "      <td>122.583</td>\n",
       "    </tr>\n",
       "    <tr>\n",
       "      <th>100452</th>\n",
       "      <td>0.250</td>\n",
       "      <td>1978</td>\n",
       "      <td>0.8130</td>\n",
       "      <td>0.511</td>\n",
       "      <td>166360</td>\n",
       "      <td>0.385</td>\n",
       "      <td>0.000002</td>\n",
       "      <td>0.1750</td>\n",
       "      <td>-11.342</td>\n",
       "      <td>27</td>\n",
       "      <td>0.3510</td>\n",
       "      <td>76.983</td>\n",
       "    </tr>\n",
       "    <tr>\n",
       "      <th>166865</th>\n",
       "      <td>0.811</td>\n",
       "      <td>2002</td>\n",
       "      <td>0.0270</td>\n",
       "      <td>0.850</td>\n",
       "      <td>246200</td>\n",
       "      <td>0.893</td>\n",
       "      <td>0.000000</td>\n",
       "      <td>0.0796</td>\n",
       "      <td>-6.496</td>\n",
       "      <td>35</td>\n",
       "      <td>0.1850</td>\n",
       "      <td>105.522</td>\n",
       "    </tr>\n",
       "    <tr>\n",
       "      <th>124995</th>\n",
       "      <td>0.248</td>\n",
       "      <td>1926</td>\n",
       "      <td>0.9860</td>\n",
       "      <td>0.417</td>\n",
       "      <td>571493</td>\n",
       "      <td>0.185</td>\n",
       "      <td>0.847000</td>\n",
       "      <td>0.3750</td>\n",
       "      <td>-16.971</td>\n",
       "      <td>0</td>\n",
       "      <td>0.0332</td>\n",
       "      <td>108.498</td>\n",
       "    </tr>\n",
       "    <tr>\n",
       "      <th>131375</th>\n",
       "      <td>0.225</td>\n",
       "      <td>1973</td>\n",
       "      <td>0.4540</td>\n",
       "      <td>0.317</td>\n",
       "      <td>207813</td>\n",
       "      <td>0.563</td>\n",
       "      <td>0.000284</td>\n",
       "      <td>0.2020</td>\n",
       "      <td>-6.209</td>\n",
       "      <td>43</td>\n",
       "      <td>0.0376</td>\n",
       "      <td>83.561</td>\n",
       "    </tr>\n",
       "  </tbody>\n",
       "</table>\n",
       "</div>"
      ],
      "text/plain": [
       "        valence  year  acousticness  danceability  duration_ms  energy  \\\n",
       "160109    0.871  1967        0.0946         0.568       162707   0.618   \n",
       "100452    0.250  1978        0.8130         0.511       166360   0.385   \n",
       "166865    0.811  2002        0.0270         0.850       246200   0.893   \n",
       "124995    0.248  1926        0.9860         0.417       571493   0.185   \n",
       "131375    0.225  1973        0.4540         0.317       207813   0.563   \n",
       "\n",
       "        instrumentalness  liveness  loudness  popularity  speechiness    tempo  \n",
       "160109          0.000000    0.6020    -9.209          19       0.0375  122.583  \n",
       "100452          0.000002    0.1750   -11.342          27       0.3510   76.983  \n",
       "166865          0.000000    0.0796    -6.496          35       0.1850  105.522  \n",
       "124995          0.847000    0.3750   -16.971           0       0.0332  108.498  \n",
       "131375          0.000284    0.2020    -6.209          43       0.0376   83.561  "
      ]
     },
     "execution_count": 71,
     "metadata": {},
     "output_type": "execute_result"
    }
   ],
   "source": [
    "X_train.head()"
   ]
  },
  {
   "cell_type": "code",
   "execution_count": 72,
   "metadata": {},
   "outputs": [
    {
     "data": {
      "text/plain": [
       "160109     649718.0\n",
       "100452      63805.0\n",
       "166865      18406.0\n",
       "124995    2204441.0\n",
       "131375      75562.0\n",
       "Name: followers, dtype: float64"
      ]
     },
     "execution_count": 72,
     "metadata": {},
     "output_type": "execute_result"
    }
   ],
   "source": [
    "y_train.head()"
   ]
  },
  {
   "cell_type": "raw",
   "metadata": {},
   "source": []
  },
  {
   "cell_type": "code",
   "execution_count": 73,
   "metadata": {},
   "outputs": [],
   "source": [
    "lr= LinearRegression()"
   ]
  },
  {
   "cell_type": "code",
   "execution_count": 74,
   "metadata": {},
   "outputs": [
    {
     "data": {
      "text/plain": [
       "LinearRegression()"
      ]
     },
     "execution_count": 74,
     "metadata": {},
     "output_type": "execute_result"
    }
   ],
   "source": [
    "lr.fit(X_scaled_train, y_train)"
   ]
  },
  {
   "cell_type": "code",
   "execution_count": 75,
   "metadata": {},
   "outputs": [],
   "source": [
    "y_pred = lr.predict(X_test)"
   ]
  },
  {
   "cell_type": "code",
   "execution_count": 76,
   "metadata": {},
   "outputs": [
    {
     "data": {
      "text/plain": [
       "array([-3.72308193e+09, -3.25399367e+09, -4.46868572e+09, ...,\n",
       "       -3.96158512e+09, -5.99442895e+09, -3.62170379e+09])"
      ]
     },
     "execution_count": 76,
     "metadata": {},
     "output_type": "execute_result"
    }
   ],
   "source": [
    "y_pred"
   ]
  },
  {
   "cell_type": "code",
   "execution_count": 77,
   "metadata": {},
   "outputs": [
    {
     "data": {
      "text/plain": [
       "-1198671.8223385785"
      ]
     },
     "execution_count": 77,
     "metadata": {},
     "output_type": "execute_result"
    }
   ],
   "source": [
    "r2_score(y_test,y_pred)"
   ]
  },
  {
   "cell_type": "code",
   "execution_count": 78,
   "metadata": {},
   "outputs": [
    {
     "data": {
      "text/plain": [
       "5521523002.458926"
      ]
     },
     "execution_count": 78,
     "metadata": {},
     "output_type": "execute_result"
    }
   ],
   "source": [
    "mean_squared_error(y_test, y_pred)**0.5"
   ]
  },
  {
   "cell_type": "code",
   "execution_count": 22,
   "metadata": {},
   "outputs": [
    {
     "data": {
      "text/plain": [
       "<matplotlib.axes._subplots.AxesSubplot at 0x7fac796aff40>"
      ]
     },
     "execution_count": 22,
     "metadata": {},
     "output_type": "execute_result"
    },
    {
     "data": {
      "image/png": "[encoded data removed]",
      "text/plain": [
       "<Figure size 432x288 with 1 Axes>"
      ]
     },
     "metadata": {
      "needs_background": "light"
     },
     "output_type": "display_data"
    }
   ],
   "source": [
    "data_followers_clean_n.plot.scatter('popularity', 'year')"
   ]
  },
  {
   "cell_type": "code",
   "execution_count": 23,
   "metadata": {},
   "outputs": [
    {
     "data": {
      "text/plain": [
       "<matplotlib.axes._subplots.AxesSubplot at 0x7fac79e15be0>"
      ]
     },
     "execution_count": 23,
     "metadata": {},
     "output_type": "execute_result"
    },
    {
     "data": {
      "image/png": "[encoded data removed]",
      "text/plain": [
       "<Figure size 432x288 with 1 Axes>"
      ]
     },
     "metadata": {
      "needs_background": "light"
     },
     "output_type": "display_data"
    }
   ],
   "source": [
    "data_followers_clean_n.plot.scatter('followers', 'year')"
   ]
  },
  {
   "cell_type": "markdown",
   "metadata": {},
   "source": [
    "### Random Forest Regression"
   ]
  },
  {
   "cell_type": "code",
   "execution_count": 24,
   "metadata": {},
   "outputs": [
    {
     "data": {
      "text/html": [
       "<div>\n",
       "<style scoped>\n",
       "    .dataframe tbody tr th:only-of-type {\n",
       "        vertical-align: middle;\n",
       "    }\n",
       "\n",
       "    .dataframe tbody tr th {\n",
       "        vertical-align: top;\n",
       "    }\n",
       "\n",
       "    .dataframe thead th {\n",
       "        text-align: right;\n",
       "    }\n",
       "</style>\n",
       "<table border=\"1\" class=\"dataframe\">\n",
       "  <thead>\n",
       "    <tr style=\"text-align: right;\">\n",
       "      <th></th>\n",
       "      <th>valence</th>\n",
       "      <th>year</th>\n",
       "      <th>acousticness</th>\n",
       "      <th>danceability</th>\n",
       "      <th>duration_ms</th>\n",
       "      <th>energy</th>\n",
       "      <th>instrumentalness</th>\n",
       "      <th>liveness</th>\n",
       "      <th>loudness</th>\n",
       "      <th>popularity</th>\n",
       "      <th>speechiness</th>\n",
       "      <th>tempo</th>\n",
       "      <th>followers</th>\n",
       "    </tr>\n",
       "  </thead>\n",
       "  <tbody>\n",
       "    <tr>\n",
       "      <th>0</th>\n",
       "      <td>0.0594</td>\n",
       "      <td>1921</td>\n",
       "      <td>0.98200</td>\n",
       "      <td>0.279</td>\n",
       "      <td>831667</td>\n",
       "      <td>0.211</td>\n",
       "      <td>0.878000</td>\n",
       "      <td>0.6650</td>\n",
       "      <td>-20.096</td>\n",
       "      <td>4</td>\n",
       "      <td>0.0366</td>\n",
       "      <td>80.954</td>\n",
       "      <td>419638.0</td>\n",
       "    </tr>\n",
       "    <tr>\n",
       "      <th>1</th>\n",
       "      <td>0.9630</td>\n",
       "      <td>1921</td>\n",
       "      <td>0.73200</td>\n",
       "      <td>0.819</td>\n",
       "      <td>180533</td>\n",
       "      <td>0.341</td>\n",
       "      <td>0.000000</td>\n",
       "      <td>0.1600</td>\n",
       "      <td>-12.441</td>\n",
       "      <td>5</td>\n",
       "      <td>0.4150</td>\n",
       "      <td>60.936</td>\n",
       "      <td>395.0</td>\n",
       "    </tr>\n",
       "    <tr>\n",
       "      <th>2</th>\n",
       "      <td>0.0394</td>\n",
       "      <td>1921</td>\n",
       "      <td>0.96100</td>\n",
       "      <td>0.328</td>\n",
       "      <td>500062</td>\n",
       "      <td>0.166</td>\n",
       "      <td>0.913000</td>\n",
       "      <td>0.1010</td>\n",
       "      <td>-14.850</td>\n",
       "      <td>5</td>\n",
       "      <td>0.0339</td>\n",
       "      <td>110.339</td>\n",
       "      <td>164.0</td>\n",
       "    </tr>\n",
       "    <tr>\n",
       "      <th>3</th>\n",
       "      <td>0.1650</td>\n",
       "      <td>1921</td>\n",
       "      <td>0.96700</td>\n",
       "      <td>0.275</td>\n",
       "      <td>210000</td>\n",
       "      <td>0.309</td>\n",
       "      <td>0.000028</td>\n",
       "      <td>0.3810</td>\n",
       "      <td>-9.316</td>\n",
       "      <td>3</td>\n",
       "      <td>0.0354</td>\n",
       "      <td>100.109</td>\n",
       "      <td>30.0</td>\n",
       "    </tr>\n",
       "    <tr>\n",
       "      <th>4</th>\n",
       "      <td>0.2530</td>\n",
       "      <td>1921</td>\n",
       "      <td>0.95700</td>\n",
       "      <td>0.418</td>\n",
       "      <td>166693</td>\n",
       "      <td>0.193</td>\n",
       "      <td>0.000002</td>\n",
       "      <td>0.2290</td>\n",
       "      <td>-10.096</td>\n",
       "      <td>2</td>\n",
       "      <td>0.0380</td>\n",
       "      <td>101.665</td>\n",
       "      <td>18.0</td>\n",
       "    </tr>\n",
       "    <tr>\n",
       "      <th>...</th>\n",
       "      <td>...</td>\n",
       "      <td>...</td>\n",
       "      <td>...</td>\n",
       "      <td>...</td>\n",
       "      <td>...</td>\n",
       "      <td>...</td>\n",
       "      <td>...</td>\n",
       "      <td>...</td>\n",
       "      <td>...</td>\n",
       "      <td>...</td>\n",
       "      <td>...</td>\n",
       "      <td>...</td>\n",
       "      <td>...</td>\n",
       "    </tr>\n",
       "    <tr>\n",
       "      <th>170648</th>\n",
       "      <td>0.6080</td>\n",
       "      <td>2020</td>\n",
       "      <td>0.08460</td>\n",
       "      <td>0.786</td>\n",
       "      <td>301714</td>\n",
       "      <td>0.808</td>\n",
       "      <td>0.000289</td>\n",
       "      <td>0.0822</td>\n",
       "      <td>-3.702</td>\n",
       "      <td>72</td>\n",
       "      <td>0.0881</td>\n",
       "      <td>105.029</td>\n",
       "      <td>15331848.0</td>\n",
       "    </tr>\n",
       "    <tr>\n",
       "      <th>170649</th>\n",
       "      <td>0.7340</td>\n",
       "      <td>2020</td>\n",
       "      <td>0.20600</td>\n",
       "      <td>0.717</td>\n",
       "      <td>150654</td>\n",
       "      <td>0.753</td>\n",
       "      <td>0.000000</td>\n",
       "      <td>0.1010</td>\n",
       "      <td>-6.020</td>\n",
       "      <td>68</td>\n",
       "      <td>0.0605</td>\n",
       "      <td>137.936</td>\n",
       "      <td>545501.0</td>\n",
       "    </tr>\n",
       "    <tr>\n",
       "      <th>170650</th>\n",
       "      <td>0.6370</td>\n",
       "      <td>2020</td>\n",
       "      <td>0.10100</td>\n",
       "      <td>0.634</td>\n",
       "      <td>211280</td>\n",
       "      <td>0.858</td>\n",
       "      <td>0.000009</td>\n",
       "      <td>0.2580</td>\n",
       "      <td>-2.226</td>\n",
       "      <td>76</td>\n",
       "      <td>0.0809</td>\n",
       "      <td>91.688</td>\n",
       "      <td>2764634.0</td>\n",
       "    </tr>\n",
       "    <tr>\n",
       "      <th>170651</th>\n",
       "      <td>0.1950</td>\n",
       "      <td>2020</td>\n",
       "      <td>0.00998</td>\n",
       "      <td>0.671</td>\n",
       "      <td>337147</td>\n",
       "      <td>0.623</td>\n",
       "      <td>0.000008</td>\n",
       "      <td>0.6430</td>\n",
       "      <td>-7.161</td>\n",
       "      <td>70</td>\n",
       "      <td>0.3080</td>\n",
       "      <td>75.055</td>\n",
       "      <td>39829471.0</td>\n",
       "    </tr>\n",
       "    <tr>\n",
       "      <th>170652</th>\n",
       "      <td>0.6420</td>\n",
       "      <td>2020</td>\n",
       "      <td>0.13200</td>\n",
       "      <td>0.856</td>\n",
       "      <td>189507</td>\n",
       "      <td>0.721</td>\n",
       "      <td>0.004710</td>\n",
       "      <td>0.1820</td>\n",
       "      <td>-4.928</td>\n",
       "      <td>74</td>\n",
       "      <td>0.1080</td>\n",
       "      <td>94.991</td>\n",
       "      <td>143621.0</td>\n",
       "    </tr>\n",
       "  </tbody>\n",
       "</table>\n",
       "<p>170653 rows × 13 columns</p>\n",
       "</div>"
      ],
      "text/plain": [
       "        valence  year  acousticness  danceability  duration_ms  energy  \\\n",
       "0        0.0594  1921       0.98200         0.279       831667   0.211   \n",
       "1        0.9630  1921       0.73200         0.819       180533   0.341   \n",
       "2        0.0394  1921       0.96100         0.328       500062   0.166   \n",
       "3        0.1650  1921       0.96700         0.275       210000   0.309   \n",
       "4        0.2530  1921       0.95700         0.418       166693   0.193   \n",
       "...         ...   ...           ...           ...          ...     ...   \n",
       "170648   0.6080  2020       0.08460         0.786       301714   0.808   \n",
       "170649   0.7340  2020       0.20600         0.717       150654   0.753   \n",
       "170650   0.6370  2020       0.10100         0.634       211280   0.858   \n",
       "170651   0.1950  2020       0.00998         0.671       337147   0.623   \n",
       "170652   0.6420  2020       0.13200         0.856       189507   0.721   \n",
       "\n",
       "        instrumentalness  liveness  loudness  popularity  speechiness  \\\n",
       "0               0.878000    0.6650   -20.096           4       0.0366   \n",
       "1               0.000000    0.1600   -12.441           5       0.4150   \n",
       "2               0.913000    0.1010   -14.850           5       0.0339   \n",
       "3               0.000028    0.3810    -9.316           3       0.0354   \n",
       "4               0.000002    0.2290   -10.096           2       0.0380   \n",
       "...                  ...       ...       ...         ...          ...   \n",
       "170648          0.000289    0.0822    -3.702          72       0.0881   \n",
       "170649          0.000000    0.1010    -6.020          68       0.0605   \n",
       "170650          0.000009    0.2580    -2.226          76       0.0809   \n",
       "170651          0.000008    0.6430    -7.161          70       0.3080   \n",
       "170652          0.004710    0.1820    -4.928          74       0.1080   \n",
       "\n",
       "          tempo   followers  \n",
       "0        80.954    419638.0  \n",
       "1        60.936       395.0  \n",
       "2       110.339       164.0  \n",
       "3       100.109        30.0  \n",
       "4       101.665        18.0  \n",
       "...         ...         ...  \n",
       "170648  105.029  15331848.0  \n",
       "170649  137.936    545501.0  \n",
       "170650   91.688   2764634.0  \n",
       "170651   75.055  39829471.0  \n",
       "170652   94.991    143621.0  \n",
       "\n",
       "[170653 rows x 13 columns]"
      ]
     },
     "execution_count": 24,
     "metadata": {},
     "output_type": "execute_result"
    }
   ],
   "source": [
    "data_followers_clean_n"
   ]
  },
  {
   "cell_type": "code",
   "execution_count": 79,
   "metadata": {},
   "outputs": [
    {
     "data": {
      "text/plain": [
       "RandomForestRegressor()"
      ]
     },
     "execution_count": 79,
     "metadata": {},
     "output_type": "execute_result"
    }
   ],
   "source": [
    "#X, y = make_regression(n_features=4, n_informative=2, random_state=0, shuffle=False)\n",
    "regr = RandomForestRegressor()#max_depth=2, random_state=0)\n",
    "regr.fit(X_train, y_train)\n",
    "RandomForestRegressor()"
   ]
  },
  {
   "cell_type": "code",
   "execution_count": 80,
   "metadata": {},
   "outputs": [
    {
     "data": {
      "text/plain": [
       "array([  71003.35,  589935.38, 1979986.83, ...,   39288.15, 1037603.65,\n",
       "        170325.09])"
      ]
     },
     "execution_count": 80,
     "metadata": {},
     "output_type": "execute_result"
    }
   ],
   "source": [
    "predictions = regr.predict(X_test)\n",
    "predictions"
   ]
  },
  {
   "cell_type": "code",
   "execution_count": 81,
   "metadata": {},
   "outputs": [
    {
     "data": {
      "text/plain": [
       "19510139474407.152"
      ]
     },
     "execution_count": 81,
     "metadata": {},
     "output_type": "execute_result"
    }
   ],
   "source": [
    "mean_squared_error(y_test, predictions)"
   ]
  },
  {
   "cell_type": "code",
   "execution_count": 57,
   "metadata": {},
   "outputs": [
    {
     "data": {
      "text/plain": [
       "array([20.20388769, 15.89847359,  2.70652052,  9.95115586, 23.11276816,\n",
       "       36.45738729, 17.1427371 , 21.54608688, 42.23668394,  8.54514664,\n",
       "       27.9253326 ,  3.80609926, 13.46668459, 15.25331878,  1.30370895,\n",
       "        4.21050833,  5.21709175,  1.74686867,  4.46486278,  4.84443539,\n",
       "       10.84572495, 34.52762894, 18.3087916 ,  2.74480859, 19.41056136,\n",
       "        8.35744858,  4.01657303, 28.27898771,  7.78745951, 13.90130403,\n",
       "       11.3245798 ,  4.27546516,  7.66492942,  2.33983021,  7.34409151,\n",
       "       21.83869108, 27.85987443, 11.01826245, 10.7215947 ,  2.19952555,\n",
       "       15.89533634, 11.68276188, 14.97974737,  6.33425463,  7.2461082 ,\n",
       "       14.45782738, 14.1764386 ,  2.26142535, 10.77260755, 15.14142158,\n",
       "       11.29723874, 14.3801759 ,  5.36352947, 10.40793642,  0.42649768,\n",
       "        0.89049758, 12.76864923,  7.39237122,  9.41027396, 18.22413611,\n",
       "        3.30204097, 22.70103092, 23.13561229,  7.69289911, 21.05810581,\n",
       "        8.90091675, 27.02024069,  5.62241194, 24.81633038,  8.45640897,\n",
       "        0.30402002,  8.87732803, 11.38925322, 22.0133572 ,  4.12742195,\n",
       "        7.82235695,  9.80550401,  9.61589069, 15.27900623, 13.27718071,\n",
       "        9.74677083,  3.86670615,  4.04856679,  9.56702973, 26.28883799,\n",
       "       15.58813075,  9.89771249,  8.40439313, 15.42532868, 21.69711928,\n",
       "       15.29332174,  0.17067622, 12.36152374, 16.41822613, 12.73177251,\n",
       "       21.99482035, 20.0292724 , 23.41172696, 20.13989707,  6.67288796])"
      ]
     },
     "execution_count": 57,
     "metadata": {},
     "output_type": "execute_result"
    }
   ],
   "source": [
    "errors = abs(predictions - y)\n",
    "errors"
   ]
  },
  {
   "cell_type": "code",
   "execution_count": 58,
   "metadata": {},
   "outputs": [
    {
     "name": "stdout",
     "output_type": "stream",
     "text": [
      "Mean Absolute Error: 12.67 degrees.\n"
     ]
    }
   ],
   "source": [
    "# Print out the mean absolute error (mae)\n",
    "print('Mean Absolute Error:', round(np.mean(errors), 2), 'degrees.')"
   ]
  },
  {
   "cell_type": "code",
   "execution_count": 59,
   "metadata": {},
   "outputs": [
    {
     "name": "stdout",
     "output_type": "stream",
     "text": [
      "Accuracy: 36.65 %.\n"
     ]
    }
   ],
   "source": [
    "# Calculate mean absolute percentage error (MAPE)\n",
    "mape = 100 * (errors / y)\n",
    "# Calculate and display accuracy\n",
    "accuracy = 100 - np.mean(mape)\n",
    "print('Accuracy:', round(accuracy, 2), '%.')"
   ]
  },
  {
   "cell_type": "code",
   "execution_count": 62,
   "metadata": {},
   "outputs": [],
   "source": []
  },
  {
   "cell_type": "code",
   "execution_count": null,
   "metadata": {},
   "outputs": [],
   "source": []
  },
  {
   "cell_type": "code",
   "execution_count": null,
   "metadata": {},
   "outputs": [],
   "source": []
  },
  {
   "cell_type": "code",
   "execution_count": null,
   "metadata": {},
   "outputs": [],
   "source": []
  },
  {
   "cell_type": "code",
   "execution_count": null,
   "metadata": {},
   "outputs": [],
   "source": []
  },
  {
   "cell_type": "code",
   "execution_count": null,
   "metadata": {},
   "outputs": [],
   "source": []
  },
  {
   "cell_type": "code",
   "execution_count": null,
   "metadata": {},
   "outputs": [],
   "source": []
  },
  {
   "cell_type": "code",
   "execution_count": null,
   "metadata": {},
   "outputs": [],
   "source": []
  },
  {
   "cell_type": "code",
   "execution_count": null,
   "metadata": {},
   "outputs": [],
   "source": []
  }
 ],
 "metadata": {
  "kernelspec": {
   "display_name": "Python 3",
   "language": "python",
   "name": "python3"
  },
  "language_info": {
   "codemirror_mode": {
    "name": "ipython",
    "version": 3
   },
   "file_extension": ".py",
   "mimetype": "text/x-python",
   "name": "python",
   "nbconvert_exporter": "python",
   "pygments_lexer": "ipython3",
   "version": "3.8.3"
  }
 },
 "nbformat": 4,
 "nbformat_minor": 4
}
